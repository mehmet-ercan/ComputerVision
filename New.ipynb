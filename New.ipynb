{
 "cells": [
  {
   "cell_type": "code",
   "execution_count": 1,
   "id": "initial_id",
   "metadata": {
    "collapsed": true,
    "ExecuteTime": {
     "end_time": "2024-04-07T10:15:28.234951Z",
     "start_time": "2024-04-07T10:15:27.803338Z"
    }
   },
   "outputs": [],
   "source": [
    "import cv2\n",
    "\n",
    "from utils import *\n",
    "import warnings\n",
    "import numpy as np\n",
    "from matplotlib import pyplot as plt\n",
    "\n",
    "warnings.filterwarnings('ignore')"
   ]
  },
  {
   "cell_type": "code",
   "outputs": [
    {
     "data": {
      "text/plain": "True"
     },
     "execution_count": 2,
     "metadata": {},
     "output_type": "execute_result"
    }
   ],
   "source": [
    "# Canny\n",
    "c_t1 = 50\n",
    "c_t2 = c_t1 * 3\n",
    "\n",
    "model_img = cv.imread('images/0.jpg')\n",
    "model_gray = cv.cvtColor(model_img, cv.COLOR_BGR2GRAY)\n",
    "model_canny = cv.Canny(model_gray, c_t1, c_t2)\n",
    "model_lines = cv.cvtColor(model_canny, cv.COLOR_GRAY2BGR)\n",
    "cv.imwrite(\"./new/cany-gray.jpg\", model_lines)"
   ],
   "metadata": {
    "collapsed": false,
    "ExecuteTime": {
     "end_time": "2024-04-07T10:15:28.245716Z",
     "start_time": "2024-04-07T10:15:28.235929Z"
    }
   },
   "id": "bc5c796654a2839b",
   "execution_count": 2
  },
  {
   "cell_type": "code",
   "outputs": [
    {
     "name": "stdout",
     "output_type": "stream",
     "text": [
      "cartesian_lines: [[[-1000, 5], [999, 5]], [[-1000, 379], [999, 379]], [[-1000, 1], [999, 1]], [[5, 1000], [5, -1000]], [[348, 1000], [348, -1000]], [[695, 1000], [695, -1000]], [[0, 1000], [0, -1000]], [[122, 1000], [122, -1000]], [[579, 1000], [579, -1000]], [[126, 1000], [126, -1000]], [[576, 1000], [576, -1000]]]\n",
      "all_intersections: [[5, 5], [348, 5], [695, 5], [122, 5], [579, 5], [126, 5], [576, 5], [5, 379], [348, 379], [695, 379], [122, 379], [579, 379], [126, 379], [576, 379], [5, 1], [348, 1], [695, 1], [122, 1], [579, 1], [126, 1], [576, 1]]\n",
      "Cluster centers: [[124.  379. ]\n",
      " [577.5   3. ]\n",
      " [124.    3. ]\n",
      " [577.5 379. ]\n",
      " [348.    3. ]\n",
      " [348.  379. ]\n",
      " [  5.    3. ]\n",
      " [695.    3. ]\n",
      " [  5.  379. ]\n",
      " [695.  379. ]]\n",
      "Points on top: [[5, 3], [695, 3]]\n",
      "Points on bot: [[5, 379], [695, 379]]\n"
     ]
    }
   ],
   "source": [
    "h_theta = np.pi / 180\n",
    "h_lines = None\n",
    "h_srn = 0  # divisor for rho\n",
    "h_stn = 0  # divisor for theta\n",
    "\n",
    "# Canny\n",
    "c_t1 = 50\n",
    "c_t2 = c_t1 * 3\n",
    "\n",
    "# Process model image=========================\n",
    "model_img = cv.imread('images/0.jpg')\n",
    "model_gray = cv.cvtColor(model_img, cv.COLOR_BGR2GRAY)\n",
    "model_canny = cv.Canny(model_gray, c_t1, c_t2)\n",
    "model_lines = cv.cvtColor(model_canny, cv.COLOR_GRAY2BGR)\n",
    "source_lines = cv.HoughLines(model_canny, 1.1, h_theta, 247, h_lines, h_srn, h_stn)\n",
    "\n",
    "linesP = cv.HoughLinesP(model_canny, 1, np.pi / 180, 50, None, 50, 10)\n",
    "cdstP = np.copy(cv.cvtColor(model_canny, cv.COLOR_GRAY2BGR))\n",
    "\n",
    "if linesP is not None:\n",
    "    for i in range(0, len(linesP)):\n",
    "        l = linesP[i][0]\n",
    "        cv.line(cdstP, (l[0], l[1]), (l[2], l[3]), (0,0,255), 3, cv.LINE_AA)\n",
    "\n",
    "cv.imwrite(\"model_hough_lines(cdstP).png\", cdstP)\n",
    "\n",
    "cartesian_lines = []\n",
    "if source_lines is not None:\n",
    "    for i in range(0, len(source_lines)):\n",
    "        pt1, pt2 = add_line(source_lines, i, model_lines)\n",
    "        cartesian_lines.append([[pt1[0], pt1[1]], [pt2[0], pt2[1]]])\n",
    "        \n",
    "print(\"cartesian_lines:\", cartesian_lines)\n",
    "all_intersections = junctions(cartesian_lines)\n",
    "print(\"all_intersections:\", all_intersections)\n",
    "cluster_centers = kmeans_centers(all_intersections, 10)\n",
    "\n",
    "mark_all(cluster_centers, model_lines)\n",
    "cv.imwrite(\"model_lines.png\", model_lines)\n",
    "\n",
    "# Calculate corners\n",
    "m_top, m_bot = get_model_corners(cluster_centers)\n",
    "print(\"Cluster centers:\", cluster_centers)\n",
    "print(\"Points on top:\", m_top)\n",
    "print(\"Points on bot:\", m_bot)\n",
    "model_joined_topbot = m_top + m_bot"
   ],
   "metadata": {
    "collapsed": false,
    "ExecuteTime": {
     "end_time": "2024-04-07T10:15:28.302535Z",
     "start_time": "2024-04-07T10:15:28.246365Z"
    }
   },
   "id": "26f21a625f57c068",
   "execution_count": 3
  },
  {
   "cell_type": "code",
   "outputs": [
    {
     "name": "stdout",
     "output_type": "stream",
     "text": [
      "D/E:  -0.0\n",
      "Points on top: [array([416.7892823 , 121.35665072]), array([416.7892823 , 121.35665072])]\n",
      "Points on bot: [array([416.7892823 , 121.35665072]), array([416.7892823 , 121.35665072])]\n",
      "Mask:\n",
      " None\n"
     ]
    },
    {
     "ename": "error",
     "evalue": "OpenCV(4.9.0) /io/opencv/modules/imgproc/src/imgwarp.cpp:3323: error: (-215:Assertion failed) (M0.type() == CV_32F || M0.type() == CV_64F) && M0.rows == 3 && M0.cols == 3 in function 'warpPerspective'\n",
     "output_type": "error",
     "traceback": [
      "\u001B[0;31m---------------------------------------------------------------------------\u001B[0m",
      "\u001B[0;31merror\u001B[0m                                     Traceback (most recent call last)",
      "Cell \u001B[0;32mIn[5], line 26\u001B[0m\n\u001B[1;32m     23\u001B[0m \u001B[38;5;28mprint\u001B[39m(\u001B[38;5;124m\"\u001B[39m\u001B[38;5;124mMask:\u001B[39m\u001B[38;5;130;01m\\n\u001B[39;00m\u001B[38;5;124m\"\u001B[39m, mask)\n\u001B[1;32m     25\u001B[0m height, width, channels \u001B[38;5;241m=\u001B[39m model_img\u001B[38;5;241m.\u001B[39mshape\n\u001B[0;32m---> 26\u001B[0m warped_img \u001B[38;5;241m=\u001B[39m cv\u001B[38;5;241m.\u001B[39mwarpPerspective(src, mask, (width, height))\n",
      "\u001B[0;31merror\u001B[0m: OpenCV(4.9.0) /io/opencv/modules/imgproc/src/imgwarp.cpp:3323: error: (-215:Assertion failed) (M0.type() == CV_32F || M0.type() == CV_64F) && M0.rows == 3 && M0.cols == 3 in function 'warpPerspective'\n"
     ]
    }
   ],
   "source": [
    "src = cv.imread(\"./images/33.jpg\")\n",
    "dst = cv.Canny(src, 50, 200, None, 3)\n",
    "frame_lines = model_lines\n",
    "lines = linesP\n",
    "\n",
    "linesP = cv.HoughLines(dst, 1,  np.pi / 180, 50, None, 0, 0)\n",
    "\n",
    "cartesian_lines = []\n",
    "if lines is not None:\n",
    "    for i in range(0, len(lines)):\n",
    "        pt1, pt2 = add_line(lines, i, frame_lines)\n",
    "        cartesian_lines.append([[pt1[0], pt1[1]], [pt2[0], pt2[1]]])\n",
    "\n",
    "junction_points = junctions(cartesian_lines)\n",
    "cluster_centers = kmeans_centers(junction_points, 25)\n",
    "mark_all(junction_points, frame_lines, rbg=(0, 0, 255))\n",
    "n_noninf = get_noninf(cluster_centers)\n",
    "top, bot = get_frame_corners(n_noninf)\n",
    "\n",
    "mask = np.array([])\n",
    "frame_joined_topbot = top + bot\n",
    "mask, status = cv.findHomography(np.array(frame_joined_topbot), np.array(model_joined_topbot))\n",
    "print(\"Mask:\\n\", mask)\n",
    "\n",
    "height, width, channels = model_img.shape\n",
    "warped_img = cv.warpPerspective(src, mask, (width, height))\n",
    "\n",
    "# cv.imshow(\"Model\", warped_img)\n",
    "# cv.waitKey(0)"
   ],
   "metadata": {
    "collapsed": false,
    "ExecuteTime": {
     "end_time": "2024-04-07T10:15:38.113619Z",
     "start_time": "2024-04-07T10:15:37.894028Z"
    }
   },
   "id": "24c2eeb8ecd0dc5a",
   "execution_count": 5
  },
  {
   "cell_type": "code",
   "outputs": [],
   "source": [
    "frame_lines = model_lines\n",
    "lines = linesP\n",
    "\n",
    "cartesian_lines = []\n",
    "if lines is not None:\n",
    "    for i in range(0, len(lines)):\n",
    "        pt1, pt2 = add_line(lines, i, frame_lines)\n",
    "        cartesian_lines.append([[pt1[0],pt1[1]], [pt2[0],pt2[1]]])\n",
    "\n",
    "# print(cartesian_lines)\n",
    "# Find all junctions and perform k-means and mark them\n",
    "junction_points = junctions(cartesian_lines)\n",
    "# print(junction_points)\n",
    "cluster_centers = kmeans_centers(junction_points, 10)\n",
    "mark_all(junction_points, frame_lines)\n",
    "\n",
    "# for num in cluster_centers:\n",
    "#     print(num)\n"
   ],
   "metadata": {
    "collapsed": false,
    "ExecuteTime": {
     "end_time": "2024-04-07T10:15:28.665189Z",
     "start_time": "2024-04-07T10:15:28.665134Z"
    }
   },
   "id": "cfaea65ea72256d6",
   "execution_count": null
  }
 ],
 "metadata": {
  "kernelspec": {
   "display_name": "Python 3",
   "language": "python",
   "name": "python3"
  },
  "language_info": {
   "codemirror_mode": {
    "name": "ipython",
    "version": 2
   },
   "file_extension": ".py",
   "mimetype": "text/x-python",
   "name": "python",
   "nbconvert_exporter": "python",
   "pygments_lexer": "ipython2",
   "version": "2.7.6"
  }
 },
 "nbformat": 4,
 "nbformat_minor": 5
}
