{
 "cells": [
  {
   "metadata": {},
   "cell_type": "markdown",
   "source": "> # PLEASE REMEMBER TO CHANGE the path of your rgbd-dataset folder to the base path variable!!!",
   "id": "3813d2ff0525fb9c"
  },
  {
   "metadata": {},
   "cell_type": "markdown",
   "source": "### Some Imports",
   "id": "a369f663727e09e8"
  },
  {
   "metadata": {},
   "cell_type": "code",
   "source": [
    "import os\n",
    "import cv2\n",
    "import numpy as np\n",
    "import matplotlib.pyplot as plt\n",
    "\n",
    "from sklearn.neighbors import KNeighborsClassifier\n",
    "from sklearn.metrics import confusion_matrix, ConfusionMatrixDisplay"
   ],
   "id": "da628fb6d9d1f20a",
   "outputs": [],
   "execution_count": null
  },
  {
   "metadata": {},
   "cell_type": "markdown",
   "source": "### The list of my object selected",
   "id": "c67142db0bf62376"
  },
  {
   "metadata": {},
   "cell_type": "code",
   "source": [
    "def load_images_from_folder(folder):\n",
    "    images = []\n",
    "    for subfolder in os.listdir(folder):\n",
    "        subfolder_path = os.path.join(folder, subfolder)\n",
    "        if os.path.isdir(subfolder_path):\n",
    "            for filename in os.listdir(subfolder_path):\n",
    "                if '_crop' in filename:\n",
    "                    img = cv2.imread(os.path.join(subfolder_path, filename))\n",
    "                    if img is not None:\n",
    "                        images.append(img)\n",
    "    return images"
   ],
   "id": "decbcd9e713cdb5b",
   "outputs": [],
   "execution_count": null
  },
  {
   "metadata": {},
   "cell_type": "markdown",
   "source": "### Pick only 10 objects",
   "id": "72845498191a02fc"
  },
  {
   "metadata": {},
   "cell_type": "code",
   "source": [
    "base_path = \"../../../../../Downloads/rgbd-dataset/\"\n",
    "object_folders =  sorted(os.listdir(base_path))\n",
    "object_folders = object_folders[-10:]  # Get last 10 main folders\n",
    "# object_folders = random.sample(object_folders, 10) # If you wanna select randomly, you will uncommit this line and remove [-10:] at above line\n",
    "\n",
    "selected_folders = []\n",
    "for obj in object_folders:\n",
    "    obj_path = os.path.join(base_path, obj)\n",
    "    \n",
    "    if os.path.isdir(obj_path):\n",
    "        selected_folders.append(obj_path)\n",
    "\n",
    "# Load images\n",
    "images = {}\n",
    "for folder in selected_folders:\n",
    "    folder_name = os.path.basename(folder)\n",
    "    images[folder_name] = load_images_from_folder(folder)"
   ],
   "id": "65542af35e2dab30",
   "outputs": [],
   "execution_count": null
  },
  {
   "metadata": {},
   "cell_type": "markdown",
   "source": "### Your features detected on the objects",
   "id": "732996deff142ca5"
  },
  {
   "metadata": {},
   "cell_type": "code",
   "source": [
    "# Initialize feature detectors\n",
    "sift = cv2.SIFT_create()\n",
    "orb = cv2.ORB_create()\n",
    "brisk = cv2.BRISK_create()\n",
    "\n",
    "feature_detectors = {'SIFT': sift, 'ORB': orb, 'BRISK': brisk}\n",
    "\n",
    "# Get features for all images\n",
    "features = {}\n",
    "for detector in feature_detectors:\n",
    "    features[detector] = {}\n",
    "    for obj in images:\n",
    "        features[detector][obj] = []"
   ],
   "id": "3975a3fc0d735a43",
   "outputs": [],
   "execution_count": null
  },
  {
   "metadata": {},
   "cell_type": "markdown",
   "source": "### The details of your object recognition algorithm",
   "id": "3231f27a9ab75754"
  },
  {
   "metadata": {},
   "cell_type": "code",
   "source": [
    "for object in images:\n",
    "    for img in images[object]:\n",
    "        gray_image = cv2.cvtColor(img, cv2.COLOR_BGR2GRAY)\n",
    "        for name, detector in feature_detectors.items():\n",
    "            keypoints, descriptors = detector.detectAndCompute(gray_image, None)  # Each detector detects and computes\n",
    "            if descriptors is not None:  # IMPORTANT CASE: Ensure that there are descriptors\n",
    "                features[name][object].append((keypoints, descriptors))"
   ],
   "id": "10daa7dceac3f292",
   "outputs": [],
   "execution_count": null
  },
  {
   "metadata": {},
   "cell_type": "markdown",
   "source": "### Splits Data -> Train: %90 and Test: %10 ",
   "id": "cf126b637370bce4"
  },
  {
   "metadata": {},
   "cell_type": "code",
   "source": [
    "def train_test_split(data, test_size=0.1):\n",
    "    train_data = {}\n",
    "    test_data = {}\n",
    "    \n",
    "    for obj, features in data.items():\n",
    "        split_idxs = int(len(features) * (1 - test_size))\n",
    "        train_data[obj] = features[:split_idxs]\n",
    "        test_data[obj] = features[split_idxs:]\n",
    "\n",
    "    return train_data, test_data"
   ],
   "id": "91da7a37488952ac",
   "outputs": [],
   "execution_count": null
  },
  {
   "metadata": {},
   "cell_type": "markdown",
   "source": "### Also Splits Features -> Train: %90 and Test: %10 ",
   "id": "feb1a874796194e8"
  },
  {
   "metadata": {},
   "cell_type": "code",
   "source": [
    "train_features = {}\n",
    "for detector in feature_detectors:\n",
    "    train_features[detector] = {}\n",
    "    \n",
    "test_features = {}\n",
    "for detector in feature_detectors:\n",
    "    test_features[detector] = {}\n",
    "\n",
    "for name in feature_detectors.keys():\n",
    "    train_features[name], test_features[name] = train_test_split(features[name])\n"
   ],
   "id": "aee6f1889362eb61",
   "outputs": [],
   "execution_count": null
  },
  {
   "metadata": {},
   "cell_type": "markdown",
   "source": "### The Classifier",
   "id": "9150b8298d14c2c2"
  },
  {
   "metadata": {},
   "cell_type": "code",
   "source": [
    "def train_classifier(features):\n",
    "    descriptors = []\n",
    "    labels = []\n",
    "\n",
    "    for label, feature_list in features.items():\n",
    "        for kp, des in feature_list:\n",
    "            if des is not None and len(des) > 0:\n",
    "                descriptors.extend(des)\n",
    "                labels.extend([label] * len(des))\n",
    "\n",
    "    if len(descriptors) > 0:\n",
    "        descriptors = np.array(descriptors)\n",
    "        labels = np.array(labels)\n",
    "        knn = KNeighborsClassifier(n_neighbors=3)\n",
    "        knn.fit(descriptors, labels)\n",
    "        return knn\n",
    "    else:\n",
    "        return None"
   ],
   "id": "7e8d894f6b137dbe",
   "outputs": [],
   "execution_count": null
  },
  {
   "metadata": {},
   "cell_type": "code",
   "source": [
    "classifiers = {}\n",
    "for name in feature_detectors.keys():\n",
    "    classifier = train_classifier(train_features[name])\n",
    "    if classifier is not None:\n",
    "        classifiers[name] = classifier\n",
    "    else:\n",
    "        print(f\"Warning: No valid descriptors for {name}\")"
   ],
   "id": "8db959e948a6e8b0",
   "outputs": [],
   "execution_count": null
  },
  {
   "metadata": {},
   "cell_type": "markdown",
   "source": "### Predict Label",
   "id": "2edcbf0855303ff9"
  },
  {
   "metadata": {},
   "cell_type": "code",
   "source": [
    "def predict_objects(classifier, features):\n",
    "    correct = 0\n",
    "    total = 0\n",
    "    all_predictions = []\n",
    "    all_labels = []\n",
    "    \n",
    "    for label, feature_list in features.items():\n",
    "        for kp, des in feature_list:\n",
    "            if des is not None and len(des) > 0:\n",
    "                predictions = classifier.predict(des)\n",
    "                prediction = max(set(predictions), key=predictions.tolist().count)\n",
    "                all_predictions.append(prediction)\n",
    "                all_labels.append(label)\n",
    "                if prediction == label:\n",
    "                    correct += 1\n",
    "                total += 1\n",
    "                # print(f\"acc: {correct/total}\")  # See accuracy\n",
    "                \n",
    "    accuracy = correct / total if total > 0 else 0\n",
    "    return accuracy, all_labels, all_predictions"
   ],
   "id": "e42ca5055528a28e",
   "outputs": [],
   "execution_count": null
  },
  {
   "metadata": {},
   "cell_type": "markdown",
   "source": "### Results & Accuracy",
   "id": "fa3e83c85d924e8f"
  },
  {
   "metadata": {
    "jupyter": {
     "is_executing": true
    }
   },
   "cell_type": "code",
   "source": [
    "results = {\n",
    "    'SIFT': {},\n",
    "    'ORB': {},\n",
    "    'BRISK': {}\n",
    "}\n",
    "\n",
    "for name in classifiers.keys():\n",
    "    accuracy, all_labels, all_predictions = predict_objects(classifiers[name], test_features[name])\n",
    "    results[name] = accuracy, all_labels, all_predictions"
   ],
   "id": "72b73ec83d6293a3",
   "outputs": [],
   "execution_count": null
  },
  {
   "metadata": {},
   "cell_type": "markdown",
   "source": "### Plot the final confusion matrix for the 10 objects",
   "id": "c1ee7736adecc90f"
  },
  {
   "metadata": {},
   "cell_type": "code",
   "source": [
    "def plot_confusion_matrix(labels, predictions, classes):\n",
    "    cm = confusion_matrix(labels, predictions)\n",
    "    cm_display = ConfusionMatrixDisplay(confusion_matrix=cm, display_labels=classes)\n",
    "    cm_display.plot()\n",
    "    plt.figure(figsize=(20, 20))\n",
    "    plt.show()"
   ],
   "id": "528d27731640d53c",
   "outputs": [],
   "execution_count": null
  },
  {
   "metadata": {},
   "cell_type": "code",
   "source": [
    "for name in classifiers.keys():\n",
    "    print(f\"\\nEvaluating classifier: {name}\")\n",
    "    accuracy, all_labels, all_predictions = results[name]\n",
    "    \n",
    "    print(\"Accuracies:\", accuracy)\n",
    "    plot_confusion_matrix(all_labels, all_predictions, classifiers[name].classes_)"
   ],
   "id": "a216266c7f62f4fb",
   "outputs": [],
   "execution_count": null
  },
  {
   "metadata": {},
   "cell_type": "code",
   "source": "",
   "id": "cccee0b7551fd59a",
   "outputs": [],
   "execution_count": null
  }
 ],
 "metadata": {
  "kernelspec": {
   "display_name": "Python 3",
   "language": "python",
   "name": "python3"
  },
  "language_info": {
   "codemirror_mode": {
    "name": "ipython",
    "version": 2
   },
   "file_extension": ".py",
   "mimetype": "text/x-python",
   "name": "python",
   "nbconvert_exporter": "python",
   "pygments_lexer": "ipython2",
   "version": "2.7.6"
  }
 },
 "nbformat": 4,
 "nbformat_minor": 5
}
