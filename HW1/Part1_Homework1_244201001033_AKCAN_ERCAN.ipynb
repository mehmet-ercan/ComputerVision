{
 "cells": [
  {
   "cell_type": "markdown",
   "source": [
    "### Import Some Neccesary Library"
   ],
   "metadata": {
    "collapsed": false
   },
   "id": "ad58a12cb000f0f9"
  },
  {
   "cell_type": "code",
   "execution_count": 1,
   "id": "initial_id",
   "metadata": {
    "collapsed": true,
    "ExecuteTime": {
     "end_time": "2024-04-09T09:46:50.212574Z",
     "start_time": "2024-04-09T09:46:48.846225Z"
    }
   },
   "source": [
    "import cv2\n",
    "\n",
    "from utils import *\n",
    "import warnings\n",
    "import numpy as np\n",
    "from matplotlib import pyplot as plt\n",
    "\n",
    "warnings.filterwarnings('ignore')"
   ],
   "outputs": []
  },
  {
   "cell_type": "markdown",
   "source": [],
   "metadata": {
    "collapsed": false
   },
   "id": "c1399348953be82d"
  },
  {
   "cell_type": "code",
   "source": [
    "def image_resizer(filePath, new_width):\n",
    "    image = cv2.imread(filePath)\n",
    "    height = image.shape[0]\n",
    "    width = image.shape[1]\n",
    "    \n",
    "    ratio = new_width / width\n",
    "    new_height = int(height * ratio)\n",
    "    \n",
    "    dimensions = (new_width, new_height)\n",
    "    new_image = cv2.resize(image, dimensions, interpolation=cv2.INTER_LINEAR)\n",
    "    return new_image\n",
    "    \n",
    "    # if you see some info, uncommit below codes\n",
    "    # print(\"New shape:      \", new_image.shape)\n",
    "    # cv2.imshow(\"Resized image\", new_image)\n",
    "    # cv2.waitKey(0)\n",
    "    # cv2.destroyAllWindows()"
   ],
   "metadata": {
    "collapsed": false,
    "ExecuteTime": {
     "end_time": "2024-04-09T09:46:50.220599Z",
     "start_time": "2024-04-09T09:46:50.215274Z"
    }
   },
   "id": "65d74e85d4434bfd",
   "execution_count": 2,
   "outputs": []
  },
  {
   "cell_type": "code",
   "source": [
    "h_theta = np.pi / 180\n",
    "h_lines = None\n",
    "h_srn = 0  # divisor for rho\n",
    "h_stn = 0  # divisor for theta\n",
    "\n",
    "# Canny\n",
    "c_t1 = 50\n",
    "c_t2 = c_t1 * 3\n",
    "\n",
    "# Process model image=========================\n",
    "model_img = cv.imread('images/0.jpg')\n",
    "model_gray = cv.cvtColor(model_img, cv.COLOR_BGR2GRAY)\n",
    "cv.imwrite(\"./output/model_gray_scale.jpg\", model_gray)\n",
    "model_canny = cv.Canny(model_gray, c_t1, c_t2)\n",
    "cv.imwrite(\"./output/model_canny_detected.jpg\", model_gray)\n",
    "model_lines = cv.cvtColor(model_canny, cv.COLOR_GRAY2BGR)\n",
    "source_lines = cv.HoughLines(model_canny, 1.1, h_theta, 247, h_lines, h_srn, h_stn)\n",
    "\n",
    "linesP = cv.HoughLinesP(model_canny, 1, np.pi / 180, 50, None, 50, 10)\n",
    "cdstP = np.copy(cv.cvtColor(model_canny, cv.COLOR_GRAY2BGR))\n",
    "\n",
    "if linesP is not None:\n",
    "    for i in range(0, len(linesP)):\n",
    "        l = linesP[i][0]\n",
    "        cv.line(cdstP, (l[0], l[1]), (l[2], l[3]), (0,0,255), 3, cv.LINE_AA)\n",
    "\n",
    "cv.imwrite(\"./output/model_hough_lines.jpg\", cdstP)\n",
    "\n",
    "cartesian_lines = []\n",
    "if source_lines is not None:\n",
    "    for i in range(0, len(source_lines)):\n",
    "        pt1, pt2 = add_line(source_lines, i, model_lines)\n",
    "        cartesian_lines.append([[pt1[0], pt1[1]], [pt2[0], pt2[1]]])\n",
    "        \n",
    "# print(\"cartesian_lines:\", cartesian_lines)\n",
    "all_intersections = junctions(cartesian_lines)\n",
    "print(\"all_intersections:\", all_intersections)\n",
    "cluster_centers = kmeans_centers(all_intersections, 10)\n",
    "\n",
    "mark_all(cluster_centers, model_lines)\n",
    "cv.imwrite(\"model_lines.jpg\", model_lines)\n",
    "\n",
    "# Calculate corners\n",
    "m_top, m_bot = get_model_corners(cluster_centers)\n",
    "print(\"Cluster centers:\", cluster_centers)\n",
    "print(\"Points on top:\", m_top)\n",
    "print(\"Points on bot:\", m_bot)\n",
    "model_joined_topbot = m_top + m_bot"
   ],
   "metadata": {
    "collapsed": false,
    "ExecuteTime": {
     "end_time": "2024-04-09T09:46:50.401359Z",
     "start_time": "2024-04-09T09:46:50.222310Z"
    }
   },
   "id": "7c14d126f1a62c62",
   "execution_count": 3,
   "outputs": []
  },
  {
   "cell_type": "code",
   "source": [
    "image_file = './images/1_man.jpg'\n",
    "default_width = 700\n",
    "frame_raw = cv.imread(image_file)\n",
    "\n",
    "if frame_raw.shape[1] > default_width:\n",
    "    new_image = image_resizer(image_file, default_width)\n",
    "    # cv.imwrite(\"7_scaler.jpg\", new_image)\n",
    "    frame_raw = cv.cvtColor(new_image, cv.COLOR_BGR2GRAY)\n",
    "\n",
    "src = frame_raw\n",
    "dst = cv.Canny(src, 50, 200, None, 3)\n",
    "cdst = cv.cvtColor(dst, cv.COLOR_GRAY2BGR)\n",
    "\n",
    "cv.imwrite(\"input-gray-image.jpg\", cv.cvtColor(frame_raw, cv.COLOR_BGR2GRAY))\n",
    "cv.imwrite(\"input-canny.jpg\", cdst)\n",
    "\n",
    "frame_lines = dst\n",
    "cartesian_lines = []\n",
    "lines = cv.HoughLines(dst, 1, np.pi / 180, 110, None, 0, 0)\n",
    "\n",
    "#Draw hough Lines\n",
    "\n",
    "if lines is not None:\n",
    "    for i in range(0, len(lines)):\n",
    "        rho = lines[i][0][0]\n",
    "        theta = lines[i][0][1]\n",
    "        a = math.cos(theta)\n",
    "        b = math.sin(theta)\n",
    "        x0 = a * rho\n",
    "        y0 = b * rho\n",
    "        pt1 = (int(x0 + 1000*(-b)), int(y0 + 1000*(a)))\n",
    "        pt2 = (int(x0 - 1000*(-b)), int(y0 - 1000*(a)))\n",
    "        cv.line(cdst, pt1, pt2, (0,0,255), 3, cv.LINE_AA)\n",
    "        \n",
    "cv.imwrite(\"input-image-hough-lines.jpg\", cdst)\n",
    "\n",
    "if lines is not None:\n",
    "    for i in range(0, len(lines)):\n",
    "        pt1, pt2 = add_line(lines, i, frame_lines)\n",
    "        cartesian_lines.append([[pt1[0], pt1[1]], [pt2[0], pt2[1]]])\n",
    "\n",
    "junction_points = junctions(cartesian_lines)\n",
    "junction_points_normalized = []\n",
    "\n",
    "for junction_point in junction_points:\n",
    "    if (junction_point[0] > 0 and junction_point[1] > 0):\n",
    "        if (junction_point[0] < src.shape[1] and junction_point[1] > src.shape[0]):\n",
    "            junction_points_normalized.append(junction_point)\n",
    "\n",
    "cluster_centers = kmeans_centers(junction_points, 25)\n",
    "mark_all(junction_points, frame_lines, rbg=(0, 0, 255))\n",
    "\n",
    "printed = ''\n",
    "for cluster_center in cluster_centers:\n",
    "    printed += str(cluster_center) + ', '\n",
    "\n",
    "print(printed)\n",
    "\n",
    "warped_img = []\n",
    "n_noninf = get_noninf(cluster_centers)\n",
    "if (len(n_noninf) >= 4):\n",
    "    top, bot = get_frame_corners(n_noninf)\n",
    "    frame_joined_topbot = top + bot\n",
    "    if (len(frame_joined_topbot) == 4):\n",
    "        # Calculate the mask for the warping\n",
    "        mask, status = cv.findHomography(np.array(frame_joined_topbot), np.array(model_joined_topbot))\n",
    "        print(\"Mask:\\n\", mask)\n",
    "        # Get frame resolution for cv.warpPerspective()\n",
    "        height, width, channels = model_img.shape\n",
    "        warped_img = cv.warpPerspective(frame_raw, mask, (width, height))\n",
    "\n",
    "    mark_all(n_noninf, frame_lines)\n",
    "    print(\"Clusters: \", len(n_noninf))  # Number of cluster centers on screen\n",
    "\n",
    "cv.imshow(\"Model\", warped_img)\n",
    "# cv.imwrite(\"./output/warped_image.jpg\", warped_img)\n",
    "cv.imwrite(\"warped_image.jpg\", warped_img)\n",
    "cv.waitKey(0)\n",
    "cv.destroyAllWindows()\n",
    "\n",
    "# 6_man\n",
    "# 14,280 +   [ 26.36708861, 161.91139241]\n",
    "# 470,463 +  [467.25       407.37068966]\n",
    "# 620,122 +  [601.65934066 134.13186813]\n",
    "# 414,49 +  [371.79054054  45.22297297]\n",
    "# cv.imwrite(\"warper.jpg\", warped_img)"
   ],
   "metadata": {
    "collapsed": false,
    "ExecuteTime": {
     "end_time": "2024-04-09T09:48:21.365371Z",
     "start_time": "2024-04-09T09:48:19.280632Z"
    }
   },
   "id": "50db1f506df36e8f",
   "execution_count": 5,
   "outputs": []
  },
  {
   "cell_type": "code",
   "source": [],
   "metadata": {
    "collapsed": false,
    "ExecuteTime": {
     "end_time": "2024-04-09T09:47:17.346543Z",
     "start_time": "2024-04-09T09:47:17.343655Z"
    }
   },
   "id": "f39ca4d679ab61c",
   "execution_count": 4,
   "outputs": []
  }
 ],
 "metadata": {
  "kernelspec": {
   "display_name": "Python 3",
   "language": "python",
   "name": "python3"
  },
  "language_info": {
   "codemirror_mode": {
    "name": "ipython",
    "version": 2
   },
   "file_extension": ".py",
   "mimetype": "text/x-python",
   "name": "python",
   "nbconvert_exporter": "python",
   "pygments_lexer": "ipython2",
   "version": "2.7.6"
  }
 },
 "nbformat": 4,
 "nbformat_minor": 5
}
